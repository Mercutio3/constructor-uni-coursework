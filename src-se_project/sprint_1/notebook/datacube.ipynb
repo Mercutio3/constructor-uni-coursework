{
 "cells": [
  {
   "cell_type": "markdown",
   "metadata": {},
   "source": [
    "# DataCube Library Project\n",
    "\n",
    "This notebook offers a step-by-step interactive tutorial on how use the Python DataCube library in this repository.\n",
    "\n",
    "## Install Prerequisites\n",
    "\n",
    "As mentioned in the README file, the requests library is required to make the HTTP requests used by this library. Installing is easy. Simply run the following command in your shell."
   ]
  },
  {
   "cell_type": "code",
   "execution_count": null,
   "metadata": {
    "vscode": {
     "languageId": "shellscript"
    }
   },
   "outputs": [],
   "source": [
    "pip install requests"
   ]
  },
  {
   "cell_type": "markdown",
   "metadata": {},
   "source": [
    "## Using the Library\n",
    "\n",
    "A sample basic usage of the libary will now be shown.\n",
    "\n",
    "### DataCube Object Creation\n",
    "\n",
    "Here, two DataCube Objects are created: dbo1 and dbo2. Notice how they both use the same DBC Connection Object, since they were both created from the same instance of WDC."
   ]
  },
  {
   "cell_type": "code",
   "execution_count": null,
   "metadata": {},
   "outputs": [],
   "source": [
    "import sys\n",
    "sys.path.append(\"../src\")\n",
    "from wdc import wdc\n",
    "\n",
    "# Define server URL of choice\n",
    "serverUrl = \"https://ows.rasdaman.org/rasdaman/ows\"\n",
    "    \n",
    "# Initialize library object and two DataCubes\n",
    "wdc = wdc(serverUrl)\n",
    "dbo1 = wdc.createDBO()\n",
    "dbo2 = wdc.createDBO()"
   ]
  },
  {
   "cell_type": "markdown",
   "metadata": {},
   "source": [
    "### Adding Operations\n",
    "\n",
    "Next, the adding of operations to both DataCubes is demonstrated."
   ]
  },
  {
   "cell_type": "code",
   "execution_count": null,
   "metadata": {},
   "outputs": [],
   "source": [
    "# Add operations (queries) to both DataCubes\n",
    "dbo1.addOperation(\"for $c in (AvgLandTemp) return 1\")\n",
    "dbo2.addOperation(\"for $c in (AvgLandTemp) return 2\")\n",
    "dbo2.addOperation(\"for $c in (AvgLandTemp) return 10\")"
   ]
  },
  {
   "cell_type": "markdown",
   "metadata": {},
   "source": [
    "### Executing Operations\n",
    "\n",
    "The two methods that can execute operations are demonstrated. Both DataCube objects will first print their first query, then print all queries they have stored. \n",
    "\n",
    "Notice how the indexing of queries is written to start with 1, ***NOT 0***. Also notice how the executeAllOperations() method prints results in ascending index order."
   ]
  },
  {
   "cell_type": "code",
   "execution_count": null,
   "metadata": {},
   "outputs": [],
   "source": [
    "# Execute each DataCube's first stored operation, print result\n",
    "dbo1.executeOperation(1)\n",
    "dbo2.executeOperation(1)\n",
    "\n",
    "# Execute all queries stored in both DataCubes, print results\n",
    "dbo1.executeAllOperations()\n",
    "dbo2.executeAllOperations()"
   ]
  },
  {
   "cell_type": "markdown",
   "metadata": {},
   "source": [
    "## Conclusion\n",
    "\n",
    "This concludes the walkthrough of the library's features so far. For complimentary documentation and a roadmap on features that should be added in the future, please consult the README file."
   ]
  }
 ],
 "metadata": {
  "kernelspec": {
   "display_name": "Python 3",
   "language": "python",
   "name": "python3"
  },
  "language_info": {
   "codemirror_mode": {
    "name": "ipython",
    "version": 3
   },
   "file_extension": ".py",
   "mimetype": "text/x-python",
   "name": "python",
   "nbconvert_exporter": "python",
   "pygments_lexer": "ipython3",
   "version": "3.10.13"
  }
 },
 "nbformat": 4,
 "nbformat_minor": 2
}
